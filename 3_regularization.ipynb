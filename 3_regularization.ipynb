{
 "cells": [
  {
   "cell_type": "markdown",
   "metadata": {
    "colab_type": "text",
    "id": "kR-4eNdK6lYS"
   },
   "source": [
    "Deep Learning\n",
    "=============\n",
    "\n",
    "Assignment 3\n",
    "------------\n",
    "\n",
    "Previously in `2_fullyconnected.ipynb`, you trained a logistic regression and a neural network model.\n",
    "\n",
    "The goal of this assignment is to explore regularization techniques."
   ]
  },
  {
   "cell_type": "code",
   "execution_count": 1,
   "metadata": {
    "cellView": "both",
    "colab": {
     "autoexec": {
      "startup": false,
      "wait_interval": 0
     }
    },
    "colab_type": "code",
    "collapsed": true,
    "id": "JLpLa8Jt7Vu4"
   },
   "outputs": [],
   "source": [
    "# These are all the modules we'll be using later. Make sure you can import them\n",
    "# before proceeding further.\n",
    "from __future__ import print_function\n",
    "import numpy as np\n",
    "import tensorflow as tf\n",
    "from six.moves import cPickle as pickle"
   ]
  },
  {
   "cell_type": "markdown",
   "metadata": {
    "colab_type": "text",
    "id": "1HrCK6e17WzV"
   },
   "source": [
    "First reload the data we generated in _notmist.ipynb_."
   ]
  },
  {
   "cell_type": "code",
   "execution_count": 2,
   "metadata": {
    "cellView": "both",
    "colab": {
     "autoexec": {
      "startup": false,
      "wait_interval": 0
     },
     "output_extras": [
      {
       "item_id": 1
      }
     ]
    },
    "colab_type": "code",
    "collapsed": false,
    "executionInfo": {
     "elapsed": 11777,
     "status": "ok",
     "timestamp": 1449849322348,
     "user": {
      "color": "",
      "displayName": "",
      "isAnonymous": false,
      "isMe": true,
      "permissionId": "",
      "photoUrl": "",
      "sessionId": "0",
      "userId": ""
     },
     "user_tz": 480
    },
    "id": "y3-cj1bpmuxc",
    "outputId": "e03576f1-ebbe-4838-c388-f1777bcc9873"
   },
   "outputs": [
    {
     "name": "stdout",
     "output_type": "stream",
     "text": [
      "Training set (200000, 28, 28) (200000,)\n",
      "Validation set (10000, 28, 28) (10000,)\n",
      "Test set (10000, 28, 28) (10000,)\n"
     ]
    }
   ],
   "source": [
    "pickle_file = 'notMNIST.pickle'\n",
    "\n",
    "with open(pickle_file, 'rb') as f:\n",
    "  save = pickle.load(f)\n",
    "  train_dataset = save['train_dataset']\n",
    "  train_labels = save['train_labels']\n",
    "  valid_dataset = save['valid_dataset']\n",
    "  valid_labels = save['valid_labels']\n",
    "  test_dataset = save['test_dataset']\n",
    "  test_labels = save['test_labels']\n",
    "  del save  # hint to help gc free up memory\n",
    "  print('Training set', train_dataset.shape, train_labels.shape)\n",
    "  print('Validation set', valid_dataset.shape, valid_labels.shape)\n",
    "  print('Test set', test_dataset.shape, test_labels.shape)"
   ]
  },
  {
   "cell_type": "markdown",
   "metadata": {
    "colab_type": "text",
    "id": "L7aHrm6nGDMB"
   },
   "source": [
    "Reformat into a shape that's more adapted to the models we're going to train:\n",
    "- data as a flat matrix,\n",
    "- labels as float 1-hot encodings."
   ]
  },
  {
   "cell_type": "code",
   "execution_count": 3,
   "metadata": {
    "cellView": "both",
    "colab": {
     "autoexec": {
      "startup": false,
      "wait_interval": 0
     },
     "output_extras": [
      {
       "item_id": 1
      }
     ]
    },
    "colab_type": "code",
    "collapsed": false,
    "executionInfo": {
     "elapsed": 11728,
     "status": "ok",
     "timestamp": 1449849322356,
     "user": {
      "color": "",
      "displayName": "",
      "isAnonymous": false,
      "isMe": true,
      "permissionId": "",
      "photoUrl": "",
      "sessionId": "0",
      "userId": ""
     },
     "user_tz": 480
    },
    "id": "IRSyYiIIGIzS",
    "outputId": "3f8996ee-3574-4f44-c953-5c8a04636582"
   },
   "outputs": [
    {
     "name": "stdout",
     "output_type": "stream",
     "text": [
      "Training set (200000, 784) (200000, 10)\n",
      "Validation set (10000, 784) (10000, 10)\n",
      "Test set (10000, 784) (10000, 10)\n"
     ]
    }
   ],
   "source": [
    "image_size = 28\n",
    "num_labels = 10\n",
    "\n",
    "def reformat(dataset, labels):\n",
    "  dataset = dataset.reshape((-1, image_size * image_size)).astype(np.float32)\n",
    "  # Map 2 to [0.0, 1.0, 0.0 ...], 3 to [0.0, 0.0, 1.0 ...]\n",
    "  labels = (np.arange(num_labels) == labels[:,None]).astype(np.float32)\n",
    "  return dataset, labels\n",
    "train_dataset, train_labels = reformat(train_dataset, train_labels)\n",
    "valid_dataset, valid_labels = reformat(valid_dataset, valid_labels)\n",
    "test_dataset, test_labels = reformat(test_dataset, test_labels)\n",
    "print('Training set', train_dataset.shape, train_labels.shape)\n",
    "print('Validation set', valid_dataset.shape, valid_labels.shape)\n",
    "print('Test set', test_dataset.shape, test_labels.shape)"
   ]
  },
  {
   "cell_type": "code",
   "execution_count": 4,
   "metadata": {
    "cellView": "both",
    "colab": {
     "autoexec": {
      "startup": false,
      "wait_interval": 0
     }
    },
    "colab_type": "code",
    "collapsed": true,
    "id": "RajPLaL_ZW6w"
   },
   "outputs": [],
   "source": [
    "def accuracy(predictions, labels):\n",
    "  return (100.0 * np.sum(np.argmax(predictions, 1) == np.argmax(labels, 1))\n",
    "          / predictions.shape[0])"
   ]
  },
  {
   "cell_type": "code",
   "execution_count": 59,
   "metadata": {
    "collapsed": true
   },
   "outputs": [],
   "source": [
    "# Cell author : Hoang NT\n",
    "# Cell : Global variables, imports and helper functions\n",
    "\n",
    "import math\n",
    "\n",
    "IMAGE_SIZE = 28\n",
    "IMAGE_PIXELS = IMAGE_SIZE * IMAGE_SIZE\n",
    "\n",
    "def scale_dev(dsize) :\n",
    "    return 1.0 / math.sqrt(float(dsize))\n",
    "\n",
    "def randomize(dataset, labels) :\n",
    "    perm = np.random.permutation(labels.shape[0])\n",
    "    return dataset[perm], labels[perm]\n"
   ]
  },
  {
   "cell_type": "markdown",
   "metadata": {
    "colab_type": "text",
    "id": "sgLbUAQ1CW-1"
   },
   "source": [
    "---\n",
    "Problem 1\n",
    "---------\n",
    "\n",
    "Introduce and tune L2 regularization for both logistic and neural network models. Remember that L2 amounts to adding a penalty on the norm of the weights to the loss. In TensorFlow, you can compute the L2 loss for a tensor `t` using `nn.l2_loss(t)`. The right amount of regularization should improve your validation / test accuracy.\n",
    "\n",
    "---"
   ]
  },
  {
   "cell_type": "code",
   "execution_count": 64,
   "metadata": {
    "collapsed": false
   },
   "outputs": [
    {
     "name": "stdout",
     "output_type": "stream",
     "text": [
      "Minibatch loss at step 0: 2.394436\n",
      "Minibatch accuracy: 12.4%\n",
      "Minibatch loss at step 500: 0.698698\n",
      "Minibatch accuracy: 82.7%\n",
      "Minibatch loss at step 1000: 0.737350\n",
      "Minibatch accuracy: 81.8%\n",
      "Minibatch loss at step 1500: 0.686850\n",
      "Minibatch accuracy: 83.3%\n",
      "Minibatch loss at step 2000: 0.639033\n",
      "Minibatch accuracy: 84.2%\n",
      "Minibatch loss at step 2500: 0.683702\n",
      "Minibatch accuracy: 83.6%\n",
      "Minibatch loss at step 3000: 0.674403\n",
      "Minibatch accuracy: 83.3%\n",
      "Minibatch loss at step 3500: 0.658267\n",
      "Minibatch accuracy: 83.9%\n",
      "Minibatch loss at step 4000: 0.675680\n",
      "Minibatch accuracy: 83.0%\n",
      "Minibatch loss at step 4500: 0.667206\n",
      "Minibatch accuracy: 83.7%\n",
      "Minibatch loss at step 5000: 0.704556\n",
      "Minibatch accuracy: 82.9%\n",
      "Minibatch loss at step 5500: 0.664664\n",
      "Minibatch accuracy: 83.5%\n",
      "Minibatch loss at step 6000: 0.682117\n",
      "Minibatch accuracy: 82.9%\n",
      "Minibatch loss at step 6500: 0.667890\n",
      "Minibatch accuracy: 82.8%\n",
      "Minibatch loss at step 7000: 0.696917\n",
      "Minibatch accuracy: 83.0%\n",
      "Minibatch loss at step 7500: 0.703650\n",
      "Minibatch accuracy: 82.5%\n",
      "Minibatch loss at step 8000: 0.649552\n",
      "Minibatch accuracy: 84.2%\n",
      "Minibatch loss at step 8500: 0.664018\n",
      "Minibatch accuracy: 83.0%\n",
      "Minibatch loss at step 9000: 0.695240\n",
      "Minibatch accuracy: 83.5%\n",
      "Minibatch loss at step 9500: 0.706185\n",
      "Minibatch accuracy: 82.1%\n",
      "Validation data loss: 0.703672\n",
      "Validation data accuracy: 83.4%\n"
     ]
    }
   ],
   "source": [
    "# Cell author : Hoang NT\n",
    "# Cell : Logistic model with regularization\n",
    "\n",
    "_alpha = 0.1 # Learning rate\n",
    "_beta = 0.005 # Regularization factor\n",
    "num_labels = 10\n",
    "num_step = 10000\n",
    "batch_size = 4000\n",
    "logis_scope = 'logistic'\n",
    "\n",
    "# Quick flag\n",
    "logis_train = True\n",
    "\n",
    "# Build the computational graph\n",
    "# Input:\n",
    "### data_dataset - tf.placeholder - Input data for calculation\n",
    "### num_labels - int - length of onehot label vector\n",
    "# Output:\n",
    "### logits - tf.Tensor - Result of computation\n",
    "def logistic_inference(train_data) :\n",
    "    # Weight matrix initialized as small shit\n",
    "    with tf.variable_scope(logis_scope) :\n",
    "        weights = tf.get_variable('weights',\n",
    "                                  dtype=tf.float32,\n",
    "                                  initializer=tf.truncated_normal(\n",
    "                                                [IMAGE_PIXELS, num_labels],\n",
    "                                                stddev=scale_dev(IMAGE_PIXELS)))\n",
    "        biases = tf.get_variable('biases', initializer=tf.zeros([num_labels]))\n",
    "    logits = tf.matmul(train_data, weights) + biases\n",
    "    return logits\n",
    "\n",
    "# Add loss function with regularization term to the graph\n",
    "# Input:\n",
    "### logits - tf.Tensor - output node of inference\n",
    "### labels - tf.placeholder - training labels to computute loss\n",
    "### beta - float - regularization factor\n",
    "# Output:\n",
    "### loss - tf.Tensor - result node of loss computation\n",
    "def logistic_loss(logits, labels, beta) :\n",
    "    xentropy = tf.nn.softmax_cross_entropy_with_logits(logits, labels, name='xentropy')\n",
    "    # Get weights node\n",
    "    with tf.variable_scope(logis_scope) :\n",
    "        tf.get_variable_scope().reuse_variables()\n",
    "        weights = tf.get_variable('weights', [IMAGE_PIXELS, num_labels])\n",
    "    loss_p = tf.reduce_mean(xentropy, name='mean_xentropy') \n",
    "    regu = tf.mul(beta,tf.nn.l2_loss(weights), name='regularization')\n",
    "    loss = tf.add(loss_p, regu)\n",
    "    return loss\n",
    "\n",
    "# Create training operations with SGD optimizer\n",
    "# Input:\n",
    "### loss - tf.Tensor - loss function result node\n",
    "### learning_rate - float - learning rate for SGD\n",
    "# Output:\n",
    "### train_op - tf.Tensor - operation node to run optimizer\n",
    "def logistic_training(loss, learning_rate) :\n",
    "    optimizer = tf.train.GradientDescentOptimizer(learning_rate)\n",
    "    train_op = optimizer.minimize(loss)\n",
    "    return train_op\n",
    "\n",
    "graph = tf.Graph()\n",
    "with graph.as_default() :\n",
    "    # Create placeholder for training data and labels\n",
    "    tf_train_dataset = tf.placeholder(dtype=tf.float32, shape=[None, IMAGE_PIXELS])\n",
    "    tf_train_labels = tf.placeholder(dtype=tf.float32, shape=[None, num_labels])\n",
    "    # Add computational nodes to graph\n",
    "    logits = logistic_inference(tf_train_dataset)\n",
    "    loss = logistic_loss(logits, tf_train_labels, _beta)\n",
    "    train_op = logistic_training(loss, _alpha)\n",
    "    init = tf.initialize_all_variables()\n",
    "    # Prediction output for each batch\n",
    "    predictions_softmax = tf.nn.softmax(logits)\n",
    "    with tf.Session() as session :\n",
    "        session.run(init)\n",
    "        for step in range(num_step) :\n",
    "            offset = (step * batch_size) % (train_labels.shape[0] - batch_size)\n",
    "            # Training data for each batch\n",
    "            batch_data = train_dataset[offset:(offset + batch_size), :]\n",
    "            batch_labels = train_labels[offset:(offset + batch_size), :]\n",
    "            feed_dict = {tf_train_dataset : batch_data, \n",
    "                         tf_train_labels : batch_labels}\n",
    "            _, l, predictions = session.run([train_op, loss, predictions_softmax],\n",
    "                                           feed_dict = feed_dict)\n",
    "            if (step % 500 == 0) :\n",
    "                print(\"Minibatch loss at step %d: %f\" % (step, l))\n",
    "                print(\"Minibatch accuracy: %.1f%%\" % accuracy(predictions,\n",
    "                                                              batch_labels))\n",
    "            if (step % 50 == 0) :\n",
    "                randomize(train_dataset, train_labels)\n",
    "        # Validation step\n",
    "        valid_dict = {tf_train_dataset : valid_dataset}\n",
    "        predictions = session.run(predictions_softmax, feed_dict=valid_dict)\n",
    "        print(\"Validation data loss: %f\" % (l))\n",
    "        print(\"Validation data accuracy: %.1f%%\"\n",
    "              % accuracy(predictions, valid_labels))\n",
    "        \n",
    "\n",
    "    "
   ]
  },
  {
   "cell_type": "markdown",
   "metadata": {
    "colab_type": "text",
    "id": "na8xX2yHZzNF"
   },
   "source": [
    "---\n",
    "Problem 2\n",
    "---------\n",
    "Let's demonstrate an extreme case of overfitting. Restrict your training data to just a few batches. What happens?\n",
    "\n",
    "---"
   ]
  },
  {
   "cell_type": "markdown",
   "metadata": {
    "colab_type": "text",
    "id": "ww3SCBUdlkRc"
   },
   "source": [
    "---\n",
    "Problem 3\n",
    "---------\n",
    "Introduce Dropout on the hidden layer of the neural network. Remember: Dropout should only be introduced during training, not evaluation, otherwise your evaluation results would be stochastic as well. TensorFlow provides `nn.dropout()` for that, but you have to make sure it's only inserted during training.\n",
    "\n",
    "What happens to our extreme overfitting case?\n",
    "\n",
    "---"
   ]
  },
  {
   "cell_type": "markdown",
   "metadata": {
    "colab_type": "text",
    "id": "-b1hTz3VWZjw"
   },
   "source": [
    "---\n",
    "Problem 4\n",
    "---------\n",
    "\n",
    "Try to get the best performance you can using a multi-layer model! The best reported test accuracy using a deep network is [97.1%](http://yaroslavvb.blogspot.com/2011/09/notmnist-dataset.html?showComment=1391023266211#c8758720086795711595).\n",
    "\n",
    "One avenue you can explore is to add multiple layers.\n",
    "\n",
    "Another one is to use learning rate decay:\n",
    "\n",
    "    global_step = tf.Variable(0)  # count the number of steps taken.\n",
    "    learning_rate = tf.train.exponential_decay(0.5, global_step, ...)\n",
    "    optimizer = tf.train.GradientDescentOptimizer(learning_rate).minimize(loss, global_step=global_step)\n",
    " \n",
    " ---\n"
   ]
  },
  {
   "cell_type": "code",
   "execution_count": null,
   "metadata": {
    "collapsed": true
   },
   "outputs": [],
   "source": []
  }
 ],
 "metadata": {
  "colab": {
   "default_view": {},
   "name": "3_regularization.ipynb",
   "provenance": [],
   "version": "0.3.2",
   "views": {}
  },
  "kernelspec": {
   "display_name": "Python 2",
   "language": "python",
   "name": "python2"
  },
  "language_info": {
   "codemirror_mode": {
    "name": "ipython",
    "version": 2
   },
   "file_extension": ".py",
   "mimetype": "text/x-python",
   "name": "python",
   "nbconvert_exporter": "python",
   "pygments_lexer": "ipython2",
   "version": "2.7.10"
  }
 },
 "nbformat": 4,
 "nbformat_minor": 0
}
